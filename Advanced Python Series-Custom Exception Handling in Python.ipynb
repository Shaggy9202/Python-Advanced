{
 "cells": [
  {
   "cell_type": "markdown",
   "id": "acc5761b",
   "metadata": {},
   "source": [
    "# Python Exception Handling"
   ]
  },
  {
   "cell_type": "code",
   "execution_count": null,
   "id": "7e2caf01",
   "metadata": {},
   "outputs": [],
   "source": [
    "class error(Exception):\n",
    "    pass\n",
    "\n",
    "class dobException(error):\n",
    "    pass"
   ]
  },
  {
   "cell_type": "code",
   "execution_count": null,
   "id": "fba26bf0",
   "metadata": {},
   "outputs": [],
   "source": [
    "year=int(input(\"Enter the year of birth\"))\n",
    "age=2021-year\n",
    "try:\n",
    "    if age<30 & age>20:\n",
    "        print(\"The age is valid.You can apply for the exam\")\n",
    "    else:\n",
    "        raise dobException#when age>30 and age<20 then custom exception is raised\n",
    "except dobException:\n",
    "    print(\"This year age is not valid.You cannot apply for the exams\")\n",
    "    "
   ]
  },
  {
   "cell_type": "code",
   "execution_count": null,
   "id": "5fe79854",
   "metadata": {},
   "outputs": [],
   "source": []
  }
 ],
 "metadata": {
  "kernelspec": {
   "display_name": "Python 3",
   "language": "python",
   "name": "python3"
  },
  "language_info": {
   "codemirror_mode": {
    "name": "ipython",
    "version": 3
   },
   "file_extension": ".py",
   "mimetype": "text/x-python",
   "name": "python",
   "nbconvert_exporter": "python",
   "pygments_lexer": "ipython3",
   "version": "3.8.8"
  }
 },
 "nbformat": 4,
 "nbformat_minor": 5
}
